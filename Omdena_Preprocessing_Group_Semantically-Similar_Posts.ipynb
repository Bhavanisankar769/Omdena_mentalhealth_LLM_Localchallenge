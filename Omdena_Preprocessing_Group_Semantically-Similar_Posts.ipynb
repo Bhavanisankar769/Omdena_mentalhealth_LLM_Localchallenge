{
 "cells": [
  {
   "cell_type": "code",
   "execution_count": 9,
   "id": "1e9d6454",
   "metadata": {},
   "outputs": [],
   "source": [
    "import json as js\n",
    "import pandas as pd\n",
    "from sklearn.feature_extraction.text import TfidfVectorizer\n",
    "from sklearn.cluster import KMeans\n",
    "from nltk.tokenize import word_tokenize\n",
    "from nltk.corpus import stopwords\n",
    "import re\n",
    "from sklearn.decomposition import PCA\n",
    "from sklearn.decomposition import TruncatedSVD\n"
   ]
  },
  {
   "cell_type": "code",
   "execution_count": 2,
   "id": "af4be13a",
   "metadata": {},
   "outputs": [],
   "source": [
    "with open(r\"C:\\Users\\Jhanvi\\Downloads\\SuicideWatch_posts_reddit.txt\",\"r\") as f:  # os will automitacally stop providing resources if we use with\n",
    "    a=f.read()\n",
    "a1=js.loads(a)"
   ]
  },
  {
   "cell_type": "code",
   "execution_count": 3,
   "id": "3ca06f01",
   "metadata": {},
   "outputs": [],
   "source": [
    "df=pd.DataFrame(a1)"
   ]
  },
  {
   "cell_type": "code",
   "execution_count": 4,
   "id": "8c1f912e",
   "metadata": {},
   "outputs": [
    {
     "data": {
      "text/html": [
       "<div>\n",
       "<style scoped>\n",
       "    .dataframe tbody tr th:only-of-type {\n",
       "        vertical-align: middle;\n",
       "    }\n",
       "\n",
       "    .dataframe tbody tr th {\n",
       "        vertical-align: top;\n",
       "    }\n",
       "\n",
       "    .dataframe thead th {\n",
       "        text-align: right;\n",
       "    }\n",
       "</style>\n",
       "<table border=\"1\" class=\"dataframe\">\n",
       "  <thead>\n",
       "    <tr style=\"text-align: right;\">\n",
       "      <th></th>\n",
       "      <th>post_id</th>\n",
       "      <th>title</th>\n",
       "      <th>author</th>\n",
       "      <th>timestamp</th>\n",
       "      <th>body</th>\n",
       "      <th>score</th>\n",
       "      <th>total_comments</th>\n",
       "      <th>comments</th>\n",
       "    </tr>\n",
       "  </thead>\n",
       "  <tbody>\n",
       "    <tr>\n",
       "      <th>0</th>\n",
       "      <td>ma96y1</td>\n",
       "      <td>It’s kinda funny how quickly one can go from “...</td>\n",
       "      <td>None</td>\n",
       "      <td>2021-03-21T23:32:52</td>\n",
       "      <td></td>\n",
       "      <td>3806</td>\n",
       "      <td>129</td>\n",
       "      <td>[{'comment_id': 'grrf9pk', 'author': 'Spo_okys...</td>\n",
       "    </tr>\n",
       "    <tr>\n",
       "      <th>1</th>\n",
       "      <td>f9d5go</td>\n",
       "      <td>Anyone else not want to die and not want to ki...</td>\n",
       "      <td>cleopatra_97</td>\n",
       "      <td>2020-02-25T16:51:01</td>\n",
       "      <td></td>\n",
       "      <td>3034</td>\n",
       "      <td>314</td>\n",
       "      <td>[{'comment_id': 'fiqyg5h', 'author': 'k0zmo', ...</td>\n",
       "    </tr>\n",
       "    <tr>\n",
       "      <th>2</th>\n",
       "      <td>kbqsnq</td>\n",
       "      <td>My mom died 3 hours ago</td>\n",
       "      <td>_crustysocks_</td>\n",
       "      <td>2020-12-12T15:22:24</td>\n",
       "      <td>I thought id be ready for this some day but i ...</td>\n",
       "      <td>2866</td>\n",
       "      <td>161</td>\n",
       "      <td>[{'comment_id': 'gfjdbtr', 'author': 'Mister_g...</td>\n",
       "    </tr>\n",
       "    <tr>\n",
       "      <th>3</th>\n",
       "      <td>e8gjky</td>\n",
       "      <td>Raped in front of my girlfriend. feeling like ...</td>\n",
       "      <td>Fantastic-Profession</td>\n",
       "      <td>2019-12-09T21:41:43</td>\n",
       "      <td>\\n\\nI don't know what to say or do, I just fe...</td>\n",
       "      <td>2820</td>\n",
       "      <td>349</td>\n",
       "      <td>[{'comment_id': 'facfc2b', 'author': None, 'ti...</td>\n",
       "    </tr>\n",
       "    <tr>\n",
       "      <th>4</th>\n",
       "      <td>jnrz57</td>\n",
       "      <td>'If you were actually suicidal you'd have kill...</td>\n",
       "      <td>throwaway-or-smthn</td>\n",
       "      <td>2020-11-04T06:48:44</td>\n",
       "      <td>FUCK YOU FUCK YOU FUCK YOU \\nYOU ABSOLUTE DUMB...</td>\n",
       "      <td>2775</td>\n",
       "      <td>146</td>\n",
       "      <td>[{'comment_id': 'gb3dgis', 'author': 'Throwawa...</td>\n",
       "    </tr>\n",
       "  </tbody>\n",
       "</table>\n",
       "</div>"
      ],
      "text/plain": [
       "  post_id                                              title  \\\n",
       "0  ma96y1  It’s kinda funny how quickly one can go from “...   \n",
       "1  f9d5go  Anyone else not want to die and not want to ki...   \n",
       "2  kbqsnq                            My mom died 3 hours ago   \n",
       "3  e8gjky  Raped in front of my girlfriend. feeling like ...   \n",
       "4  jnrz57  'If you were actually suicidal you'd have kill...   \n",
       "\n",
       "                 author            timestamp  \\\n",
       "0                  None  2021-03-21T23:32:52   \n",
       "1          cleopatra_97  2020-02-25T16:51:01   \n",
       "2         _crustysocks_  2020-12-12T15:22:24   \n",
       "3  Fantastic-Profession  2019-12-09T21:41:43   \n",
       "4    throwaway-or-smthn  2020-11-04T06:48:44   \n",
       "\n",
       "                                                body  score  total_comments  \\\n",
       "0                                                      3806             129   \n",
       "1                                                      3034             314   \n",
       "2  I thought id be ready for this some day but i ...   2866             161   \n",
       "3   \\n\\nI don't know what to say or do, I just fe...   2820             349   \n",
       "4  FUCK YOU FUCK YOU FUCK YOU \\nYOU ABSOLUTE DUMB...   2775             146   \n",
       "\n",
       "                                            comments  \n",
       "0  [{'comment_id': 'grrf9pk', 'author': 'Spo_okys...  \n",
       "1  [{'comment_id': 'fiqyg5h', 'author': 'k0zmo', ...  \n",
       "2  [{'comment_id': 'gfjdbtr', 'author': 'Mister_g...  \n",
       "3  [{'comment_id': 'facfc2b', 'author': None, 'ti...  \n",
       "4  [{'comment_id': 'gb3dgis', 'author': 'Throwawa...  "
      ]
     },
     "execution_count": 4,
     "metadata": {},
     "output_type": "execute_result"
    }
   ],
   "source": [
    "df.head()"
   ]
  },
  {
   "cell_type": "code",
   "execution_count": 5,
   "id": "4fbd16b0",
   "metadata": {},
   "outputs": [
    {
     "data": {
      "text/plain": [
       "Index(['post_id', 'title', 'author', 'timestamp', 'body', 'score',\n",
       "       'total_comments', 'comments'],\n",
       "      dtype='object')"
      ]
     },
     "execution_count": 5,
     "metadata": {},
     "output_type": "execute_result"
    }
   ],
   "source": [
    "df.columns"
   ]
  },
  {
   "cell_type": "code",
   "execution_count": 6,
   "id": "9972e84c",
   "metadata": {},
   "outputs": [
    {
     "data": {
      "text/plain": [
       "post_id             0\n",
       "title               0\n",
       "author            169\n",
       "timestamp           0\n",
       "body                0\n",
       "score               0\n",
       "total_comments      0\n",
       "comments            0\n",
       "dtype: int64"
      ]
     },
     "execution_count": 6,
     "metadata": {},
     "output_type": "execute_result"
    }
   ],
   "source": [
    "df.isna().sum()"
   ]
  },
  {
   "cell_type": "code",
   "execution_count": null,
   "id": "7210dca0",
   "metadata": {},
   "outputs": [],
   "source": []
  },
  {
   "cell_type": "code",
   "execution_count": 7,
   "id": "7734670a",
   "metadata": {},
   "outputs": [],
   "source": [
    "# I included only basic preprocessing tasks \n",
    "def preprocess_text(text):\n",
    "    text = re.sub(r'[^a-zA-Z0-9\\s]', '', str(text))  # Remove non-alphanumeric characters\n",
    "    tokens = word_tokenize(text.lower())  # Tokenize and lowercase\n",
    "    stop_words = set(stopwords.words('english'))  # Remove stopwords\n",
    "    tokens = [token for token in tokens if token not in stop_words]\n",
    "    return ' '.join(tokens)\n",
    "\n",
    "# Combine title and body columns\n",
    "df['text'] = df['title'] + ' ' + df['body']\n",
    "\n",
    "# Apply preprocessing to text column\n",
    "df['processed_text'] = df['text'].apply(preprocess_text)\n",
    "\n",
    "# TF-IDF Vectorization\n",
    "tfidf_vectorizer = TfidfVectorizer(tokenizer=word_tokenize, stop_words='english')\n",
    "tfidf_matrix = tfidf_vectorizer.fit_transform(df['processed_text'])\n",
    "\n"
   ]
  },
  {
   "cell_type": "code",
   "execution_count": 15,
   "id": "076456d8",
   "metadata": {},
   "outputs": [],
   "source": [
    "# Elbow method for selecting the optimal number of clusters\n",
    "inertia = []\n",
    "for num_clusters in range(1, 11):\n",
    "    kmeans = KMeans(n_clusters=num_clusters, random_state=42)\n",
    "    kmeans.fit(tfidf_matrix)\n",
    "    inertia.append(kmeans.inertia_)"
   ]
  },
  {
   "cell_type": "code",
   "execution_count": 16,
   "id": "25b5c3e9",
   "metadata": {},
   "outputs": [
    {
     "data": {
      "image/png": "[encoded data removed]",
      "text/plain": [
       "<Figure size 432x288 with 1 Axes>"
      ]
     },
     "metadata": {
      "needs_background": "light"
     },
     "output_type": "display_data"
    }
   ],
   "source": [
    "import matplotlib.pyplot as plt\n",
    "# Plotting the elbow curve\n",
    "plt.plot(range(1, 11), inertia, marker='o')\n",
    "plt.xlabel('Number of clusters')\n",
    "plt.ylabel('Inertia')\n",
    "plt.title('Elbow Method for Optimal Number of Clusters')\n",
    "plt.show()"
   ]
  },
  {
   "cell_type": "code",
   "execution_count": 17,
   "id": "2e89e4b0",
   "metadata": {},
   "outputs": [],
   "source": [
    "#from visual inspection\n",
    "optimal_num_clusters=8\n",
    "# Clustering using the optimal number of clusters\n",
    "kmeans = KMeans(n_clusters=optimal_num_clusters, random_state=42)\n",
    "kmeans.fit(tfidf_matrix)\n",
    "cluster_labels = kmeans.labels_\n",
    "\n",
    "# Add cluster labels to DataFrame\n",
    "df['cluster'] = cluster_labels\n"
   ]
  },
  {
   "cell_type": "code",
   "execution_count": 19,
   "id": "431d648f",
   "metadata": {},
   "outputs": [
    {
     "data": {
      "text/html": [
       "<div>\n",
       "<style scoped>\n",
       "    .dataframe tbody tr th:only-of-type {\n",
       "        vertical-align: middle;\n",
       "    }\n",
       "\n",
       "    .dataframe tbody tr th {\n",
       "        vertical-align: top;\n",
       "    }\n",
       "\n",
       "    .dataframe thead th {\n",
       "        text-align: right;\n",
       "    }\n",
       "</style>\n",
       "<table border=\"1\" class=\"dataframe\">\n",
       "  <thead>\n",
       "    <tr style=\"text-align: right;\">\n",
       "      <th></th>\n",
       "      <th>post_id</th>\n",
       "      <th>title</th>\n",
       "      <th>author</th>\n",
       "      <th>timestamp</th>\n",
       "      <th>body</th>\n",
       "      <th>score</th>\n",
       "      <th>total_comments</th>\n",
       "      <th>comments</th>\n",
       "      <th>text</th>\n",
       "      <th>processed_text</th>\n",
       "      <th>cluster</th>\n",
       "    </tr>\n",
       "  </thead>\n",
       "  <tbody>\n",
       "    <tr>\n",
       "      <th>0</th>\n",
       "      <td>ma96y1</td>\n",
       "      <td>It’s kinda funny how quickly one can go from “...</td>\n",
       "      <td>None</td>\n",
       "      <td>2021-03-21T23:32:52</td>\n",
       "      <td></td>\n",
       "      <td>3806</td>\n",
       "      <td>129</td>\n",
       "      <td>[{'comment_id': 'grrf9pk', 'author': 'Spo_okys...</td>\n",
       "      <td>It’s kinda funny how quickly one can go from “...</td>\n",
       "      <td>kinda funny quickly one go today great product...</td>\n",
       "      <td>7</td>\n",
       "    </tr>\n",
       "    <tr>\n",
       "      <th>1</th>\n",
       "      <td>f9d5go</td>\n",
       "      <td>Anyone else not want to die and not want to ki...</td>\n",
       "      <td>cleopatra_97</td>\n",
       "      <td>2020-02-25T16:51:01</td>\n",
       "      <td></td>\n",
       "      <td>3034</td>\n",
       "      <td>314</td>\n",
       "      <td>[{'comment_id': 'fiqyg5h', 'author': 'k0zmo', ...</td>\n",
       "      <td>Anyone else not want to die and not want to ki...</td>\n",
       "      <td>anyone else want die want kill wish could stop...</td>\n",
       "      <td>7</td>\n",
       "    </tr>\n",
       "    <tr>\n",
       "      <th>2</th>\n",
       "      <td>kbqsnq</td>\n",
       "      <td>My mom died 3 hours ago</td>\n",
       "      <td>_crustysocks_</td>\n",
       "      <td>2020-12-12T15:22:24</td>\n",
       "      <td>I thought id be ready for this some day but i ...</td>\n",
       "      <td>2866</td>\n",
       "      <td>161</td>\n",
       "      <td>[{'comment_id': 'gfjdbtr', 'author': 'Mister_g...</td>\n",
       "      <td>My mom died 3 hours ago I thought id be ready ...</td>\n",
       "      <td>mom died 3 hours ago thought id ready day real...</td>\n",
       "      <td>3</td>\n",
       "    </tr>\n",
       "    <tr>\n",
       "      <th>3</th>\n",
       "      <td>e8gjky</td>\n",
       "      <td>Raped in front of my girlfriend. feeling like ...</td>\n",
       "      <td>Fantastic-Profession</td>\n",
       "      <td>2019-12-09T21:41:43</td>\n",
       "      <td>\\n\\nI don't know what to say or do, I just fe...</td>\n",
       "      <td>2820</td>\n",
       "      <td>349</td>\n",
       "      <td>[{'comment_id': 'facfc2b', 'author': None, 'ti...</td>\n",
       "      <td>Raped in front of my girlfriend. feeling like ...</td>\n",
       "      <td>raped front girlfriend feeling like giving don...</td>\n",
       "      <td>3</td>\n",
       "    </tr>\n",
       "    <tr>\n",
       "      <th>4</th>\n",
       "      <td>jnrz57</td>\n",
       "      <td>'If you were actually suicidal you'd have kill...</td>\n",
       "      <td>throwaway-or-smthn</td>\n",
       "      <td>2020-11-04T06:48:44</td>\n",
       "      <td>FUCK YOU FUCK YOU FUCK YOU \\nYOU ABSOLUTE DUMB...</td>\n",
       "      <td>2775</td>\n",
       "      <td>146</td>\n",
       "      <td>[{'comment_id': 'gb3dgis', 'author': 'Throwawa...</td>\n",
       "      <td>'If you were actually suicidal you'd have kill...</td>\n",
       "      <td>actually suicidal youd killed already tell any...</td>\n",
       "      <td>1</td>\n",
       "    </tr>\n",
       "    <tr>\n",
       "      <th>5</th>\n",
       "      <td>juklnk</td>\n",
       "      <td>I like sleeping because it's the closest thing...</td>\n",
       "      <td>throwwowwoy</td>\n",
       "      <td>2020-11-15T11:37:29</td>\n",
       "      <td></td>\n",
       "      <td>2774</td>\n",
       "      <td>139</td>\n",
       "      <td>[{'comment_id': 'gcdz6dy', 'author': 'letmeliv...</td>\n",
       "      <td>I like sleeping because it's the closest thing...</td>\n",
       "      <td>like sleeping closest thing existing experience</td>\n",
       "      <td>2</td>\n",
       "    </tr>\n",
       "    <tr>\n",
       "      <th>6</th>\n",
       "      <td>n77bnn</td>\n",
       "      <td>I fucking hate/despise/loathe how money is eve...</td>\n",
       "      <td>phosTR</td>\n",
       "      <td>2021-05-07T19:52:57</td>\n",
       "      <td>I'm tired of seeing all these fucking crypto s...</td>\n",
       "      <td>2706</td>\n",
       "      <td>191</td>\n",
       "      <td>[{'comment_id': 'gxbeoqw', 'author': 'amustafa...</td>\n",
       "      <td>I fucking hate/despise/loathe how money is eve...</td>\n",
       "      <td>fucking hatedespiseloathe money everything fuc...</td>\n",
       "      <td>1</td>\n",
       "    </tr>\n",
       "    <tr>\n",
       "      <th>7</th>\n",
       "      <td>hy8bh6</td>\n",
       "      <td>I wish I could walk into a hospital, throw my ...</td>\n",
       "      <td>Bittybot5000</td>\n",
       "      <td>2020-07-26T14:58:10</td>\n",
       "      <td>But of course they’d lock me up in the mental ...</td>\n",
       "      <td>2671</td>\n",
       "      <td>77</td>\n",
       "      <td>[{'comment_id': 'fzb6ae6', 'author': None, 'ti...</td>\n",
       "      <td>I wish I could walk into a hospital, throw my ...</td>\n",
       "      <td>wish could walk hospital throw arms say organs...</td>\n",
       "      <td>7</td>\n",
       "    </tr>\n",
       "    <tr>\n",
       "      <th>8</th>\n",
       "      <td>kgxxg9</td>\n",
       "      <td>Dear mom, i really dont care about my grades r...</td>\n",
       "      <td>None</td>\n",
       "      <td>2020-12-20T17:19:56</td>\n",
       "      <td></td>\n",
       "      <td>2650</td>\n",
       "      <td>143</td>\n",
       "      <td>[{'comment_id': 'gghw4py', 'author': 'casketcr...</td>\n",
       "      <td>Dear mom, i really dont care about my grades r...</td>\n",
       "      <td>dear mom really dont care grades right im tryi...</td>\n",
       "      <td>3</td>\n",
       "    </tr>\n",
       "    <tr>\n",
       "      <th>9</th>\n",
       "      <td>l49603</td>\n",
       "      <td>Someone sarcastically told me to kill myself a...</td>\n",
       "      <td>freddy_plays_csgo</td>\n",
       "      <td>2021-01-24T22:20:53</td>\n",
       "      <td>He just got silent , then without saying anyth...</td>\n",
       "      <td>2592</td>\n",
       "      <td>104</td>\n",
       "      <td>[{'comment_id': 'gkn4zem', 'author': None, 'ti...</td>\n",
       "      <td>Someone sarcastically told me to kill myself a...</td>\n",
       "      <td>someone sarcastically told kill replied tried ...</td>\n",
       "      <td>2</td>\n",
       "    </tr>\n",
       "  </tbody>\n",
       "</table>\n",
       "</div>"
      ],
      "text/plain": [
       "  post_id                                              title  \\\n",
       "0  ma96y1  It’s kinda funny how quickly one can go from “...   \n",
       "1  f9d5go  Anyone else not want to die and not want to ki...   \n",
       "2  kbqsnq                            My mom died 3 hours ago   \n",
       "3  e8gjky  Raped in front of my girlfriend. feeling like ...   \n",
       "4  jnrz57  'If you were actually suicidal you'd have kill...   \n",
       "5  juklnk  I like sleeping because it's the closest thing...   \n",
       "6  n77bnn  I fucking hate/despise/loathe how money is eve...   \n",
       "7  hy8bh6  I wish I could walk into a hospital, throw my ...   \n",
       "8  kgxxg9  Dear mom, i really dont care about my grades r...   \n",
       "9  l49603  Someone sarcastically told me to kill myself a...   \n",
       "\n",
       "                 author            timestamp  \\\n",
       "0                  None  2021-03-21T23:32:52   \n",
       "1          cleopatra_97  2020-02-25T16:51:01   \n",
       "2         _crustysocks_  2020-12-12T15:22:24   \n",
       "3  Fantastic-Profession  2019-12-09T21:41:43   \n",
       "4    throwaway-or-smthn  2020-11-04T06:48:44   \n",
       "5           throwwowwoy  2020-11-15T11:37:29   \n",
       "6                phosTR  2021-05-07T19:52:57   \n",
       "7          Bittybot5000  2020-07-26T14:58:10   \n",
       "8                  None  2020-12-20T17:19:56   \n",
       "9     freddy_plays_csgo  2021-01-24T22:20:53   \n",
       "\n",
       "                                                body  score  total_comments  \\\n",
       "0                                                      3806             129   \n",
       "1                                                      3034             314   \n",
       "2  I thought id be ready for this some day but i ...   2866             161   \n",
       "3   \\n\\nI don't know what to say or do, I just fe...   2820             349   \n",
       "4  FUCK YOU FUCK YOU FUCK YOU \\nYOU ABSOLUTE DUMB...   2775             146   \n",
       "5                                                      2774             139   \n",
       "6  I'm tired of seeing all these fucking crypto s...   2706             191   \n",
       "7  But of course they’d lock me up in the mental ...   2671              77   \n",
       "8                                                      2650             143   \n",
       "9  He just got silent , then without saying anyth...   2592             104   \n",
       "\n",
       "                                            comments  \\\n",
       "0  [{'comment_id': 'grrf9pk', 'author': 'Spo_okys...   \n",
       "1  [{'comment_id': 'fiqyg5h', 'author': 'k0zmo', ...   \n",
       "2  [{'comment_id': 'gfjdbtr', 'author': 'Mister_g...   \n",
       "3  [{'comment_id': 'facfc2b', 'author': None, 'ti...   \n",
       "4  [{'comment_id': 'gb3dgis', 'author': 'Throwawa...   \n",
       "5  [{'comment_id': 'gcdz6dy', 'author': 'letmeliv...   \n",
       "6  [{'comment_id': 'gxbeoqw', 'author': 'amustafa...   \n",
       "7  [{'comment_id': 'fzb6ae6', 'author': None, 'ti...   \n",
       "8  [{'comment_id': 'gghw4py', 'author': 'casketcr...   \n",
       "9  [{'comment_id': 'gkn4zem', 'author': None, 'ti...   \n",
       "\n",
       "                                                text  \\\n",
       "0  It’s kinda funny how quickly one can go from “...   \n",
       "1  Anyone else not want to die and not want to ki...   \n",
       "2  My mom died 3 hours ago I thought id be ready ...   \n",
       "3  Raped in front of my girlfriend. feeling like ...   \n",
       "4  'If you were actually suicidal you'd have kill...   \n",
       "5  I like sleeping because it's the closest thing...   \n",
       "6  I fucking hate/despise/loathe how money is eve...   \n",
       "7  I wish I could walk into a hospital, throw my ...   \n",
       "8  Dear mom, i really dont care about my grades r...   \n",
       "9  Someone sarcastically told me to kill myself a...   \n",
       "\n",
       "                                      processed_text  cluster  \n",
       "0  kinda funny quickly one go today great product...        7  \n",
       "1  anyone else want die want kill wish could stop...        7  \n",
       "2  mom died 3 hours ago thought id ready day real...        3  \n",
       "3  raped front girlfriend feeling like giving don...        3  \n",
       "4  actually suicidal youd killed already tell any...        1  \n",
       "5    like sleeping closest thing existing experience        2  \n",
       "6  fucking hatedespiseloathe money everything fuc...        1  \n",
       "7  wish could walk hospital throw arms say organs...        7  \n",
       "8  dear mom really dont care grades right im tryi...        3  \n",
       "9  someone sarcastically told kill replied tried ...        2  "
      ]
     },
     "execution_count": 19,
     "metadata": {},
     "output_type": "execute_result"
    }
   ],
   "source": [
    "df.head(10)"
   ]
  },
  {
   "cell_type": "code",
   "execution_count": 20,
   "id": "79b6b218",
   "metadata": {},
   "outputs": [
    {
     "data": {
      "text/plain": [
       "(991, 8168)"
      ]
     },
     "execution_count": 20,
     "metadata": {},
     "output_type": "execute_result"
    }
   ],
   "source": [
    "tfidf_matrix.shape"
   ]
  },
  {
   "cell_type": "code",
   "execution_count": 11,
   "id": "2ba59574",
   "metadata": {},
   "outputs": [
    {
     "name": "stdout",
     "output_type": "stream",
     "text": [
      "Explained variance ratio of each component: [0.00851692 0.01104678 0.00912931 0.00794332 0.00739339 0.00700091\n",
      " 0.00660025]\n"
     ]
    }
   ],
   "source": [
    "# pca = PCA(n_components=2)\n",
    "# tfidf_reduced = pca.fit_transform(tfidf_matrix)\n",
    "\n",
    "svd = TruncatedSVD(n_components=7)\n",
    "tfidf_reduced = svd.fit_transform(tfidf_matrix)\n",
    "\n",
    "# Print the explained variance ratio of each component\n",
    "print(\"Explained variance ratio of each component:\", svd.explained_variance_ratio_)\n",
    "\n",
    "# # Print the explained variance ratio of each component\n",
    "# print(\"Explained variance ratio of each component:\", pca.explained_variance_ratio_)"
   ]
  },
  {
   "cell_type": "code",
   "execution_count": 13,
   "id": "c9022394",
   "metadata": {},
   "outputs": [
    {
     "name": "stdout",
     "output_type": "stream",
     "text": [
      "Explained variance ratio of each component: [0.01140937 0.01055471 0.00912923 0.00795867 0.00740232 0.00662167\n",
      " 0.00639056 0.00629165 0.00588734 0.00556523]\n"
     ]
    }
   ],
   "source": [
    "tfidf_dense = tfidf_matrix.toarray()\n",
    "pca = PCA(n_components=10)\n",
    "tfidf_reduced = pca.fit_transform(tfidf_dense)\n",
    "print(\"Explained variance ratio of each component:\", pca.explained_variance_ratio_)"
   ]
  },
  {
   "cell_type": "code",
   "execution_count": null,
   "id": "ac36333d",
   "metadata": {},
   "outputs": [],
   "source": [
    "# its becomes difficult to visualise this data using PCA as none of the component is able to explain maximum variance"
   ]
  }
 ],
 "metadata": {
  "kernelspec": {
   "display_name": "Python 3 (ipykernel)",
   "language": "python",
   "name": "python3"
  },
  "language_info": {
   "codemirror_mode": {
    "name": "ipython",
    "version": 3
   },
   "file_extension": ".py",
   "mimetype": "text/x-python",
   "name": "python",
   "nbconvert_exporter": "python",
   "pygments_lexer": "ipython3",
   "version": "3.9.12"
  }
 },
 "nbformat": 4,
 "nbformat_minor": 5
}
